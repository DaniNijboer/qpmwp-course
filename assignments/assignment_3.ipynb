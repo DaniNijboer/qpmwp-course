{
 "cells": [
  {
   "cell_type": "markdown",
   "metadata": {},
   "source": [
    "# Assignment 3\n",
    "\n",
    "Deadline: 09.04.2025 12:00 CET\n",
    "\n",
    "<Add your name, student-id and emal address>"
   ]
  },
  {
   "cell_type": "code",
   "execution_count": 191,
   "metadata": {},
   "outputs": [],
   "source": [
    "# Standard library imports\n",
    "import os\n",
    "import sys\n",
    "import types\n",
    "\n",
    "# Third party imports\n",
    "import numpy as np\n",
    "import pandas as pd\n",
    "\n",
    "# Add the project root directory to Python path\n",
    "project_root = os.path.dirname(os.path.dirname(os.getcwd()))   #<Change this path if needed>\n",
    "src_path = os.path.join(project_root, 'qpmwp-course\\\\src')\n",
    "sys.path.append(project_root)\n",
    "sys.path.append(src_path)\n",
    "\n",
    "# Local modules imports\n",
    "from helper_functions import load_data_msci\n",
    "from estimation.covariance import Covariance\n",
    "from estimation.expected_return import ExpectedReturn\n",
    "from optimization.optimization import MeanVariance\n",
    "from backtesting.backtest_item_builder_classes import (\n",
    "    SelectionItemBuilder,\n",
    "    OptimizationItemBuilder,\n",
    ")\n",
    "from backtesting.backtest_item_builder_functions import (\n",
    "    bibfn_selection_data_random,\n",
    "    bibfn_return_series,\n",
    "    bibfn_budget_constraint,\n",
    "    bibfn_box_constraints,\n",
    ")\n",
    "from backtesting.portfolio import floating_weights\n",
    "from backtesting.backtest_service import BacktestService\n",
    "from backtesting.backtest import Backtest"
   ]
  },
  {
   "cell_type": "markdown",
   "metadata": {},
   "source": [
    "### Data load"
   ]
  },
  {
   "cell_type": "code",
   "execution_count": 192,
   "metadata": {},
   "outputs": [],
   "source": [
    "N = 24\n",
    "data = load_data_msci(path = '../data/', n = N)  #<Change the path if needed>"
   ]
  },
  {
   "cell_type": "markdown",
   "metadata": {},
   "source": [
    "### Prepare backtest service"
   ]
  },
  {
   "cell_type": "code",
   "execution_count": 193,
   "metadata": {},
   "outputs": [],
   "source": [
    "# Define rebalancing dates\n",
    "n_days = 21 * 3\n",
    "start_date = '2010-01-01'\n",
    "dates = data['return_series'].index\n",
    "rebdates = dates[dates > start_date][::n_days].strftime('%Y-%m-%d').tolist()\n",
    "\n",
    "# Define the selection item builders.\n",
    "selection_item_builders = {\n",
    "    'data': SelectionItemBuilder(\n",
    "        bibfn = bibfn_selection_data_random,\n",
    "        k = 10,\n",
    "        seed = 42,\n",
    "    ),\n",
    "}\n",
    "\n",
    "# Define the optimization item builders.\n",
    "optimization_item_builders = {\n",
    "    'return_series': OptimizationItemBuilder(\n",
    "        bibfn = bibfn_return_series,\n",
    "        width = 365 * 3,\n",
    "    ),\n",
    "    'budget_constraint': OptimizationItemBuilder(\n",
    "        bibfn = bibfn_budget_constraint,\n",
    "        budget = 1,\n",
    "    ),\n",
    "    'box_constraints': OptimizationItemBuilder(\n",
    "        bibfn = bibfn_box_constraints,\n",
    "        upper = 0.5,\n",
    "    ),\n",
    "}\n",
    "\n",
    "# Initialize the backtest service\n",
    "bs = BacktestService(\n",
    "    data = data,\n",
    "    selection_item_builders = selection_item_builders,\n",
    "    optimization_item_builders = optimization_item_builders,\n",
    "    optimization = MeanVariance(\n",
    "        covariance = Covariance(method = 'pearson'),\n",
    "        expected_return = ExpectedReturn(method = 'geometric'),\n",
    "        risk_aversion = 1,\n",
    "        solver_name = 'cvxopt',\n",
    "    ),\n",
    "    rebdates = rebdates,\n",
    ")"
   ]
  },
  {
   "cell_type": "markdown",
   "metadata": {},
   "source": [
    "### Run the backtest"
   ]
  },
  {
   "cell_type": "code",
   "execution_count": 194,
   "metadata": {},
   "outputs": [
    {
     "name": "stdout",
     "output_type": "stream",
     "text": [
      "Rebalancing date: 2010-01-04\n",
      "Rebalancing date: 2010-04-01\n",
      "Rebalancing date: 2010-06-29\n",
      "Rebalancing date: 2010-09-24\n",
      "Rebalancing date: 2010-12-22\n",
      "Rebalancing date: 2011-03-21\n",
      "Rebalancing date: 2011-06-16\n",
      "Rebalancing date: 2011-09-13\n",
      "Rebalancing date: 2011-12-09\n",
      "Rebalancing date: 2012-03-07\n",
      "Rebalancing date: 2012-06-04\n",
      "Rebalancing date: 2012-08-30\n",
      "Rebalancing date: 2012-11-27\n",
      "Rebalancing date: 2013-02-22\n",
      "Rebalancing date: 2013-05-22\n",
      "Rebalancing date: 2013-08-19\n",
      "Rebalancing date: 2013-11-14\n",
      "Rebalancing date: 2014-02-11\n",
      "Rebalancing date: 2014-05-09\n",
      "Rebalancing date: 2014-08-06\n",
      "Rebalancing date: 2014-11-03\n",
      "Rebalancing date: 2015-01-29\n",
      "Rebalancing date: 2015-04-28\n",
      "Rebalancing date: 2015-07-24\n",
      "Rebalancing date: 2015-10-21\n",
      "Rebalancing date: 2016-01-18\n",
      "Rebalancing date: 2016-04-14\n",
      "Rebalancing date: 2016-07-12\n",
      "Rebalancing date: 2016-10-07\n",
      "Rebalancing date: 2017-01-04\n",
      "Rebalancing date: 2017-04-03\n",
      "Rebalancing date: 2017-06-29\n",
      "Rebalancing date: 2017-09-26\n",
      "Rebalancing date: 2017-12-22\n",
      "Rebalancing date: 2018-03-21\n",
      "Rebalancing date: 2018-06-18\n",
      "Rebalancing date: 2018-09-13\n",
      "Rebalancing date: 2018-12-11\n",
      "Rebalancing date: 2019-03-08\n",
      "Rebalancing date: 2019-06-05\n",
      "Rebalancing date: 2019-09-02\n",
      "Rebalancing date: 2019-11-28\n",
      "Rebalancing date: 2020-02-25\n",
      "Rebalancing date: 2020-05-22\n",
      "Rebalancing date: 2020-08-19\n",
      "Rebalancing date: 2020-11-16\n",
      "Rebalancing date: 2021-02-11\n",
      "Rebalancing date: 2021-05-11\n",
      "Rebalancing date: 2021-08-06\n",
      "Rebalancing date: 2021-11-03\n",
      "Rebalancing date: 2022-01-31\n",
      "Rebalancing date: 2022-04-28\n",
      "Rebalancing date: 2022-07-26\n",
      "Rebalancing date: 2022-10-21\n",
      "Rebalancing date: 2023-01-18\n",
      "Rebalancing date: 2023-04-17\n"
     ]
    }
   ],
   "source": [
    "# Instantiate the backtest object and run the backtest\n",
    "bt_mv = Backtest()\n",
    "\n",
    "# Run the backtest\n",
    "bt_mv.run(bs = bs)"
   ]
  },
  {
   "cell_type": "markdown",
   "metadata": {},
   "source": [
    "## 1. Turnover\n",
    "\n",
    "**(6 points)**\n",
    "\n",
    "Complete the function `turnover`."
   ]
  },
  {
   "cell_type": "code",
   "execution_count": 195,
   "metadata": {},
   "outputs": [],
   "source": [
    "def turnover(self, return_series: pd.DataFrame, rescale: bool = True) -> pd.Series:\n",
    "\n",
    "    # Convert rebalancing dates to strings for consistency\n",
    "    dates = [str(date) for date in self.get_rebalancing_dates()]\n",
    "    to = {}\n",
    "    to[dates[0]] = float(1)  # Turnover for the first date is set to 1 (100%)\n",
    "\n",
    "    for rebalancing_date in dates[1:]:\n",
    "        # Get the previous and current portfolios\n",
    "        previous_portfolio = self.get_previous_portfolio(rebalancing_date)\n",
    "        current_portfolio = self.get_portfolio(rebalancing_date)\n",
    "\n",
    "        # Validate rebalancing dates\n",
    "        if current_portfolio.rebalancing_date is None or previous_portfolio.rebalancing_date is None:\n",
    "            raise ValueError('Portfolios must have a rebalancing date')\n",
    "\n",
    "        if current_portfolio.rebalancing_date < previous_portfolio.rebalancing_date:\n",
    "            raise ValueError('The previous portfolio must be older than the current portfolio')\n",
    "\n",
    "        # Convert weights to pandas Series\n",
    "        previous_weights = pd.Series(previous_portfolio.weights)\n",
    "        current_weights = pd.Series(current_portfolio.weights)\n",
    "\n",
    "        # Align both Series to the union of asset IDs, filling missing values with 0\n",
    "        all_ids = previous_weights.index.union(current_weights.index)\n",
    "        previous_weights = previous_weights.reindex(all_ids, fill_value=0)\n",
    "        current_weights = current_weights.reindex(all_ids, fill_value=0)\n",
    "\n",
    "        # Float the weights of the previous portfolio\n",
    "        floated_weights_df = floating_weights(\n",
    "            X=return_series,  # Pass the return series as X\n",
    "            w=previous_weights,\n",
    "            start_date=previous_portfolio.rebalancing_date,\n",
    "            end_date=pd.to_datetime(rebalancing_date),  # Convert back to Timestamp for floating_weights\n",
    "            rescale=rescale\n",
    "        )\n",
    "\n",
    "        # Extract the floated weights for the final date (rebalancing_date)\n",
    "        floated_weights = floated_weights_df.loc[pd.to_datetime(rebalancing_date)]\n",
    "\n",
    "        # Calculate the turnover\n",
    "        to[pd.to_datetime(rebalancing_date)] = (floated_weights - current_weights).abs().sum()\n",
    "\n",
    "    return pd.Series(to)"
   ]
  },
  {
   "cell_type": "markdown",
   "metadata": {},
   "source": [
    "2: Simulation\n",
    "\n",
    "(6 points)\n",
    "\n",
    "Complete the function `simulate`."
   ]
  },
  {
   "cell_type": "code",
   "execution_count": null,
   "metadata": {},
   "outputs": [],
   "source": [
    "def simulate(self,\n",
    "                return_series: pd.DataFrame,\n",
    "                fc: float = 0,\n",
    "                vc: float = 0,\n",
    "                n_days_per_year: int = 252) -> pd.Series:\n",
    "\n",
    "    rebdates = self.get_rebalancing_dates()\n",
    "    ret_list = []\n",
    "    for rebdate in rebdates:\n",
    "        next_rebdate = (\n",
    "            rebdates[rebdates.index(rebdate) + 1]\n",
    "            if rebdate < rebdates[-1]\n",
    "            else return_series.index[-1]\n",
    "        )\n",
    "\n",
    "        portfolio = self.get_portfolio(rebdate)\n",
    "        w_float = portfolio.float_weights(\n",
    "            return_series=return_series,\n",
    "            end_date=next_rebdate,\n",
    "            rescale=False # Notice that rescale is hardcoded to False.\n",
    "        )\n",
    "        level = w_float.sum(axis=1)\n",
    "        ret_tmp = level.pct_change(1)\n",
    "        ret_list.append(ret_tmp)\n",
    "\n",
    "    portf_ret = pd.concat(ret_list).dropna()\n",
    "\n",
    "    if vc != 0:\n",
    "        # Calculate turnover\n",
    "        # \n",
    "        turnover = self.turnover(return_series=return_series,\n",
    "                           rescale=False)\n",
    "        # Calculate variable cost (vc) as a fraction of turnover and\n",
    "        # subtract the variable cost from the returns at each rebalancing date\n",
    "\n",
    "        # <your code here>\n",
    "        # For every rebalancing date in the turnover index, subtract the variable cost (vc) times the turnover from the returns\n",
    "        for rebdate in turnover.index:\n",
    "            portf_ret.loc[rebdate] -= vc * turnover.loc[rebdate]\n",
    "\n",
    "    if fc != 0:\n",
    "\n",
    "        daily_fc = fc / n_days_per_year\n",
    "        for rebdate in rebdates[1:]:  # Skip the first rebalancing date\n",
    "            portf_ret.loc[rebdate] -= daily_fc\n",
    "\n",
    "    return portf_ret"
   ]
  },
  {
   "cell_type": "markdown",
   "metadata": {},
   "source": [
    "Overwrite the turnover and the simulation methods of the current strategy object."
   ]
  },
  {
   "cell_type": "code",
   "execution_count": 197,
   "metadata": {},
   "outputs": [],
   "source": [
    "# Overwrite the turnover method of the strategy object\n",
    "bt_mv.strategy.turnover = types.MethodType(turnover, bt_mv.strategy)\n",
    "\n",
    "# Overwrite the simulate method of the strategy object\n",
    "bt_mv.strategy.simulate = types.MethodType(simulate, bt_mv.strategy)"
   ]
  },
  {
   "cell_type": "markdown",
   "metadata": {},
   "source": [
    "Calculate and plot the turnover."
   ]
  },
  {
   "cell_type": "code",
   "execution_count": 198,
   "metadata": {},
   "outputs": [
    {
     "data": {
      "text/plain": [
       "<Axes: title={'center': 'Turnover'}>"
      ]
     },
     "execution_count": 198,
     "metadata": {},
     "output_type": "execute_result"
    },
    {
     "data": {
      "image/png": "[encoded data removed]",
      "text/plain": [
       "<Figure size 1000x500 with 1 Axes>"
      ]
     },
     "metadata": {},
     "output_type": "display_data"
    }
   ],
   "source": [
    "bt_mv.strategy.turnover(\n",
    "    return_series = data['return_series'],\n",
    "    rescale = True,\n",
    ").plot(title = 'Turnover', figsize = (10, 5))\n"
   ]
  },
  {
   "cell_type": "markdown",
   "metadata": {},
   "source": [
    "Simulate with different cost assumptions."
   ]
  },
  {
   "cell_type": "code",
   "execution_count": 199,
   "metadata": {},
   "outputs": [
    {
     "name": "stdout",
     "output_type": "stream",
     "text": [
      "Skipping missing portfolio for rebdate: 2010-01-04 00:00:00 - No portfolio found for rebalancing date 2010-01-04 00:00:00\n",
      "Skipping missing portfolio for rebdate: 2010-04-01 00:00:00 - No portfolio found for rebalancing date 2010-04-01 00:00:00\n",
      "Skipping missing portfolio for rebdate: 2010-06-29 00:00:00 - No portfolio found for rebalancing date 2010-06-29 00:00:00\n",
      "Skipping missing portfolio for rebdate: 2010-09-24 00:00:00 - No portfolio found for rebalancing date 2010-09-24 00:00:00\n",
      "Skipping missing portfolio for rebdate: 2010-12-22 00:00:00 - No portfolio found for rebalancing date 2010-12-22 00:00:00\n",
      "Skipping missing portfolio for rebdate: 2011-03-21 00:00:00 - No portfolio found for rebalancing date 2011-03-21 00:00:00\n",
      "Skipping missing portfolio for rebdate: 2011-06-16 00:00:00 - No portfolio found for rebalancing date 2011-06-16 00:00:00\n",
      "Skipping missing portfolio for rebdate: 2011-09-13 00:00:00 - No portfolio found for rebalancing date 2011-09-13 00:00:00\n",
      "Skipping missing portfolio for rebdate: 2011-12-09 00:00:00 - No portfolio found for rebalancing date 2011-12-09 00:00:00\n",
      "Skipping missing portfolio for rebdate: 2012-03-07 00:00:00 - No portfolio found for rebalancing date 2012-03-07 00:00:00\n",
      "Skipping missing portfolio for rebdate: 2012-06-04 00:00:00 - No portfolio found for rebalancing date 2012-06-04 00:00:00\n",
      "Skipping missing portfolio for rebdate: 2012-08-30 00:00:00 - No portfolio found for rebalancing date 2012-08-30 00:00:00\n",
      "Skipping missing portfolio for rebdate: 2012-11-27 00:00:00 - No portfolio found for rebalancing date 2012-11-27 00:00:00\n",
      "Skipping missing portfolio for rebdate: 2013-02-22 00:00:00 - No portfolio found for rebalancing date 2013-02-22 00:00:00\n",
      "Skipping missing portfolio for rebdate: 2013-05-22 00:00:00 - No portfolio found for rebalancing date 2013-05-22 00:00:00\n",
      "Skipping missing portfolio for rebdate: 2013-08-19 00:00:00 - No portfolio found for rebalancing date 2013-08-19 00:00:00\n",
      "Skipping missing portfolio for rebdate: 2013-11-14 00:00:00 - No portfolio found for rebalancing date 2013-11-14 00:00:00\n",
      "Skipping missing portfolio for rebdate: 2014-02-11 00:00:00 - No portfolio found for rebalancing date 2014-02-11 00:00:00\n",
      "Skipping missing portfolio for rebdate: 2014-05-09 00:00:00 - No portfolio found for rebalancing date 2014-05-09 00:00:00\n",
      "Skipping missing portfolio for rebdate: 2014-08-06 00:00:00 - No portfolio found for rebalancing date 2014-08-06 00:00:00\n",
      "Skipping missing portfolio for rebdate: 2014-11-03 00:00:00 - No portfolio found for rebalancing date 2014-11-03 00:00:00\n",
      "Skipping missing portfolio for rebdate: 2015-01-29 00:00:00 - No portfolio found for rebalancing date 2015-01-29 00:00:00\n",
      "Skipping missing portfolio for rebdate: 2015-04-28 00:00:00 - No portfolio found for rebalancing date 2015-04-28 00:00:00\n",
      "Skipping missing portfolio for rebdate: 2015-07-24 00:00:00 - No portfolio found for rebalancing date 2015-07-24 00:00:00\n",
      "Skipping missing portfolio for rebdate: 2015-10-21 00:00:00 - No portfolio found for rebalancing date 2015-10-21 00:00:00\n",
      "Skipping missing portfolio for rebdate: 2016-01-18 00:00:00 - No portfolio found for rebalancing date 2016-01-18 00:00:00\n",
      "Skipping missing portfolio for rebdate: 2016-04-14 00:00:00 - No portfolio found for rebalancing date 2016-04-14 00:00:00\n",
      "Skipping missing portfolio for rebdate: 2016-07-12 00:00:00 - No portfolio found for rebalancing date 2016-07-12 00:00:00\n",
      "Skipping missing portfolio for rebdate: 2016-10-07 00:00:00 - No portfolio found for rebalancing date 2016-10-07 00:00:00\n",
      "Skipping missing portfolio for rebdate: 2017-01-04 00:00:00 - No portfolio found for rebalancing date 2017-01-04 00:00:00\n",
      "Skipping missing portfolio for rebdate: 2017-04-03 00:00:00 - No portfolio found for rebalancing date 2017-04-03 00:00:00\n",
      "Skipping missing portfolio for rebdate: 2017-06-29 00:00:00 - No portfolio found for rebalancing date 2017-06-29 00:00:00\n",
      "Skipping missing portfolio for rebdate: 2017-09-26 00:00:00 - No portfolio found for rebalancing date 2017-09-26 00:00:00\n",
      "Skipping missing portfolio for rebdate: 2017-12-22 00:00:00 - No portfolio found for rebalancing date 2017-12-22 00:00:00\n",
      "Skipping missing portfolio for rebdate: 2018-03-21 00:00:00 - No portfolio found for rebalancing date 2018-03-21 00:00:00\n",
      "Skipping missing portfolio for rebdate: 2018-06-18 00:00:00 - No portfolio found for rebalancing date 2018-06-18 00:00:00\n",
      "Skipping missing portfolio for rebdate: 2018-09-13 00:00:00 - No portfolio found for rebalancing date 2018-09-13 00:00:00\n",
      "Skipping missing portfolio for rebdate: 2018-12-11 00:00:00 - No portfolio found for rebalancing date 2018-12-11 00:00:00\n",
      "Skipping missing portfolio for rebdate: 2019-03-08 00:00:00 - No portfolio found for rebalancing date 2019-03-08 00:00:00\n",
      "Skipping missing portfolio for rebdate: 2019-06-05 00:00:00 - No portfolio found for rebalancing date 2019-06-05 00:00:00\n",
      "Skipping missing portfolio for rebdate: 2019-09-02 00:00:00 - No portfolio found for rebalancing date 2019-09-02 00:00:00\n",
      "Skipping missing portfolio for rebdate: 2019-11-28 00:00:00 - No portfolio found for rebalancing date 2019-11-28 00:00:00\n",
      "Skipping missing portfolio for rebdate: 2020-02-25 00:00:00 - No portfolio found for rebalancing date 2020-02-25 00:00:00\n",
      "Skipping missing portfolio for rebdate: 2020-05-22 00:00:00 - No portfolio found for rebalancing date 2020-05-22 00:00:00\n",
      "Skipping missing portfolio for rebdate: 2020-08-19 00:00:00 - No portfolio found for rebalancing date 2020-08-19 00:00:00\n",
      "Skipping missing portfolio for rebdate: 2020-11-16 00:00:00 - No portfolio found for rebalancing date 2020-11-16 00:00:00\n",
      "Skipping missing portfolio for rebdate: 2021-02-11 00:00:00 - No portfolio found for rebalancing date 2021-02-11 00:00:00\n",
      "Skipping missing portfolio for rebdate: 2021-05-11 00:00:00 - No portfolio found for rebalancing date 2021-05-11 00:00:00\n",
      "Skipping missing portfolio for rebdate: 2021-08-06 00:00:00 - No portfolio found for rebalancing date 2021-08-06 00:00:00\n",
      "Skipping missing portfolio for rebdate: 2021-11-03 00:00:00 - No portfolio found for rebalancing date 2021-11-03 00:00:00\n",
      "Skipping missing portfolio for rebdate: 2022-01-31 00:00:00 - No portfolio found for rebalancing date 2022-01-31 00:00:00\n",
      "Skipping missing portfolio for rebdate: 2022-04-28 00:00:00 - No portfolio found for rebalancing date 2022-04-28 00:00:00\n",
      "Skipping missing portfolio for rebdate: 2022-07-26 00:00:00 - No portfolio found for rebalancing date 2022-07-26 00:00:00\n",
      "Skipping missing portfolio for rebdate: 2022-10-21 00:00:00 - No portfolio found for rebalancing date 2022-10-21 00:00:00\n",
      "Skipping missing portfolio for rebdate: 2023-01-18 00:00:00 - No portfolio found for rebalancing date 2023-01-18 00:00:00\n",
      "Skipping missing portfolio for rebdate: 2023-04-17 00:00:00 - No portfolio found for rebalancing date 2023-04-17 00:00:00\n"
     ]
    },
    {
     "ename": "ValueError",
     "evalue": "No objects to concatenate",
     "output_type": "error",
     "traceback": [
      "\u001b[1;31m---------------------------------------------------------------------------\u001b[0m",
      "\u001b[1;31mValueError\u001b[0m                                Traceback (most recent call last)",
      "Cell \u001b[1;32mIn[199], line 3\u001b[0m\n\u001b[0;32m      1\u001b[0m return_series \u001b[38;5;241m=\u001b[39m bs\u001b[38;5;241m.\u001b[39mdata[\u001b[38;5;124m'\u001b[39m\u001b[38;5;124mreturn_series\u001b[39m\u001b[38;5;124m'\u001b[39m]\n\u001b[1;32m----> 3\u001b[0m sim_mv_gross \u001b[38;5;241m=\u001b[39m \u001b[43mbt_mv\u001b[49m\u001b[38;5;241;43m.\u001b[39;49m\u001b[43mstrategy\u001b[49m\u001b[38;5;241;43m.\u001b[39;49m\u001b[43msimulate\u001b[49m\u001b[43m(\u001b[49m\u001b[43mreturn_series\u001b[49m\u001b[38;5;241;43m=\u001b[39;49m\u001b[43mreturn_series\u001b[49m\u001b[43m,\u001b[49m\u001b[43m \u001b[49m\u001b[43mfc\u001b[49m\u001b[38;5;241;43m=\u001b[39;49m\u001b[38;5;241;43m0\u001b[39;49m\u001b[43m,\u001b[49m\u001b[43m \u001b[49m\u001b[43mvc\u001b[49m\u001b[38;5;241;43m=\u001b[39;49m\u001b[38;5;241;43m0\u001b[39;49m\u001b[43m)\u001b[49m\n\u001b[0;32m      4\u001b[0m sim_mv_net_of_fc \u001b[38;5;241m=\u001b[39m bt_mv\u001b[38;5;241m.\u001b[39mstrategy\u001b[38;5;241m.\u001b[39msimulate(return_series\u001b[38;5;241m=\u001b[39mreturn_series, fc\u001b[38;5;241m=\u001b[39m\u001b[38;5;241m0.01\u001b[39m, vc\u001b[38;5;241m=\u001b[39m\u001b[38;5;241m0\u001b[39m)\n\u001b[0;32m      5\u001b[0m sim_mv_net_of_vc \u001b[38;5;241m=\u001b[39m bt_mv\u001b[38;5;241m.\u001b[39mstrategy\u001b[38;5;241m.\u001b[39msimulate(return_series\u001b[38;5;241m=\u001b[39mreturn_series, fc\u001b[38;5;241m=\u001b[39m\u001b[38;5;241m0\u001b[39m, vc\u001b[38;5;241m=\u001b[39m\u001b[38;5;241m0.002\u001b[39m)\n",
      "Cell \u001b[1;32mIn[196], line 43\u001b[0m, in \u001b[0;36msimulate\u001b[1;34m(self, return_series, fc, vc, n_days_per_year)\u001b[0m\n\u001b[0;32m     40\u001b[0m     ret_tmp \u001b[38;5;241m=\u001b[39m level\u001b[38;5;241m.\u001b[39mpct_change(\u001b[38;5;241m1\u001b[39m)\n\u001b[0;32m     41\u001b[0m     ret_list\u001b[38;5;241m.\u001b[39mappend(ret_tmp)\n\u001b[1;32m---> 43\u001b[0m portf_ret \u001b[38;5;241m=\u001b[39m \u001b[43mpd\u001b[49m\u001b[38;5;241;43m.\u001b[39;49m\u001b[43mconcat\u001b[49m\u001b[43m(\u001b[49m\u001b[43mret_list\u001b[49m\u001b[43m)\u001b[49m\u001b[38;5;241m.\u001b[39mdropna()\n\u001b[0;32m     45\u001b[0m \u001b[38;5;66;03m# Adjust for variable costs (vc)\u001b[39;00m\n\u001b[0;32m     46\u001b[0m \u001b[38;5;28;01mif\u001b[39;00m vc \u001b[38;5;241m!=\u001b[39m \u001b[38;5;241m0\u001b[39m:\n",
      "File \u001b[1;32mc:\\Users\\Danin\\Documents\\Python Projects\\Quant Portfolio UZH\\venv\\Lib\\site-packages\\pandas\\core\\reshape\\concat.py:382\u001b[0m, in \u001b[0;36mconcat\u001b[1;34m(objs, axis, join, ignore_index, keys, levels, names, verify_integrity, sort, copy)\u001b[0m\n\u001b[0;32m    379\u001b[0m \u001b[38;5;28;01melif\u001b[39;00m copy \u001b[38;5;129;01mand\u001b[39;00m using_copy_on_write():\n\u001b[0;32m    380\u001b[0m     copy \u001b[38;5;241m=\u001b[39m \u001b[38;5;28;01mFalse\u001b[39;00m\n\u001b[1;32m--> 382\u001b[0m op \u001b[38;5;241m=\u001b[39m \u001b[43m_Concatenator\u001b[49m\u001b[43m(\u001b[49m\n\u001b[0;32m    383\u001b[0m \u001b[43m    \u001b[49m\u001b[43mobjs\u001b[49m\u001b[43m,\u001b[49m\n\u001b[0;32m    384\u001b[0m \u001b[43m    \u001b[49m\u001b[43maxis\u001b[49m\u001b[38;5;241;43m=\u001b[39;49m\u001b[43maxis\u001b[49m\u001b[43m,\u001b[49m\n\u001b[0;32m    385\u001b[0m \u001b[43m    \u001b[49m\u001b[43mignore_index\u001b[49m\u001b[38;5;241;43m=\u001b[39;49m\u001b[43mignore_index\u001b[49m\u001b[43m,\u001b[49m\n\u001b[0;32m    386\u001b[0m \u001b[43m    \u001b[49m\u001b[43mjoin\u001b[49m\u001b[38;5;241;43m=\u001b[39;49m\u001b[43mjoin\u001b[49m\u001b[43m,\u001b[49m\n\u001b[0;32m    387\u001b[0m \u001b[43m    \u001b[49m\u001b[43mkeys\u001b[49m\u001b[38;5;241;43m=\u001b[39;49m\u001b[43mkeys\u001b[49m\u001b[43m,\u001b[49m\n\u001b[0;32m    388\u001b[0m \u001b[43m    \u001b[49m\u001b[43mlevels\u001b[49m\u001b[38;5;241;43m=\u001b[39;49m\u001b[43mlevels\u001b[49m\u001b[43m,\u001b[49m\n\u001b[0;32m    389\u001b[0m \u001b[43m    \u001b[49m\u001b[43mnames\u001b[49m\u001b[38;5;241;43m=\u001b[39;49m\u001b[43mnames\u001b[49m\u001b[43m,\u001b[49m\n\u001b[0;32m    390\u001b[0m \u001b[43m    \u001b[49m\u001b[43mverify_integrity\u001b[49m\u001b[38;5;241;43m=\u001b[39;49m\u001b[43mverify_integrity\u001b[49m\u001b[43m,\u001b[49m\n\u001b[0;32m    391\u001b[0m \u001b[43m    \u001b[49m\u001b[43mcopy\u001b[49m\u001b[38;5;241;43m=\u001b[39;49m\u001b[43mcopy\u001b[49m\u001b[43m,\u001b[49m\n\u001b[0;32m    392\u001b[0m \u001b[43m    \u001b[49m\u001b[43msort\u001b[49m\u001b[38;5;241;43m=\u001b[39;49m\u001b[43msort\u001b[49m\u001b[43m,\u001b[49m\n\u001b[0;32m    393\u001b[0m \u001b[43m\u001b[49m\u001b[43m)\u001b[49m\n\u001b[0;32m    395\u001b[0m \u001b[38;5;28;01mreturn\u001b[39;00m op\u001b[38;5;241m.\u001b[39mget_result()\n",
      "File \u001b[1;32mc:\\Users\\Danin\\Documents\\Python Projects\\Quant Portfolio UZH\\venv\\Lib\\site-packages\\pandas\\core\\reshape\\concat.py:445\u001b[0m, in \u001b[0;36m_Concatenator.__init__\u001b[1;34m(self, objs, axis, join, keys, levels, names, ignore_index, verify_integrity, copy, sort)\u001b[0m\n\u001b[0;32m    442\u001b[0m \u001b[38;5;28mself\u001b[39m\u001b[38;5;241m.\u001b[39mverify_integrity \u001b[38;5;241m=\u001b[39m verify_integrity\n\u001b[0;32m    443\u001b[0m \u001b[38;5;28mself\u001b[39m\u001b[38;5;241m.\u001b[39mcopy \u001b[38;5;241m=\u001b[39m copy\n\u001b[1;32m--> 445\u001b[0m objs, keys \u001b[38;5;241m=\u001b[39m \u001b[38;5;28;43mself\u001b[39;49m\u001b[38;5;241;43m.\u001b[39;49m\u001b[43m_clean_keys_and_objs\u001b[49m\u001b[43m(\u001b[49m\u001b[43mobjs\u001b[49m\u001b[43m,\u001b[49m\u001b[43m \u001b[49m\u001b[43mkeys\u001b[49m\u001b[43m)\u001b[49m\n\u001b[0;32m    447\u001b[0m \u001b[38;5;66;03m# figure out what our result ndim is going to be\u001b[39;00m\n\u001b[0;32m    448\u001b[0m ndims \u001b[38;5;241m=\u001b[39m \u001b[38;5;28mself\u001b[39m\u001b[38;5;241m.\u001b[39m_get_ndims(objs)\n",
      "File \u001b[1;32mc:\\Users\\Danin\\Documents\\Python Projects\\Quant Portfolio UZH\\venv\\Lib\\site-packages\\pandas\\core\\reshape\\concat.py:507\u001b[0m, in \u001b[0;36m_Concatenator._clean_keys_and_objs\u001b[1;34m(self, objs, keys)\u001b[0m\n\u001b[0;32m    504\u001b[0m     objs_list \u001b[38;5;241m=\u001b[39m \u001b[38;5;28mlist\u001b[39m(objs)\n\u001b[0;32m    506\u001b[0m \u001b[38;5;28;01mif\u001b[39;00m \u001b[38;5;28mlen\u001b[39m(objs_list) \u001b[38;5;241m==\u001b[39m \u001b[38;5;241m0\u001b[39m:\n\u001b[1;32m--> 507\u001b[0m     \u001b[38;5;28;01mraise\u001b[39;00m \u001b[38;5;167;01mValueError\u001b[39;00m(\u001b[38;5;124m\"\u001b[39m\u001b[38;5;124mNo objects to concatenate\u001b[39m\u001b[38;5;124m\"\u001b[39m)\n\u001b[0;32m    509\u001b[0m \u001b[38;5;28;01mif\u001b[39;00m keys \u001b[38;5;129;01mis\u001b[39;00m \u001b[38;5;28;01mNone\u001b[39;00m:\n\u001b[0;32m    510\u001b[0m     objs_list \u001b[38;5;241m=\u001b[39m \u001b[38;5;28mlist\u001b[39m(com\u001b[38;5;241m.\u001b[39mnot_none(\u001b[38;5;241m*\u001b[39mobjs_list))\n",
      "\u001b[1;31mValueError\u001b[0m: No objects to concatenate"
     ]
    }
   ],
   "source": [
    "return_series = bs.data['return_series']\n",
    "\n",
    "sim_mv_gross = bt_mv.strategy.simulate(return_series=return_series, fc=0, vc=0)\n",
    "sim_mv_net_of_fc = bt_mv.strategy.simulate(return_series=return_series, fc=0.01, vc=0)\n",
    "sim_mv_net_of_vc = bt_mv.strategy.simulate(return_series=return_series, fc=0, vc=0.002)\n",
    "sim_mv_net = bt_mv.strategy.simulate(return_series=return_series, fc=0.01, vc=0.002)\n"
   ]
  },
  {
   "cell_type": "markdown",
   "metadata": {},
   "source": [
    "Plot the cumulative returns."
   ]
  },
  {
   "cell_type": "code",
   "execution_count": null,
   "metadata": {},
   "outputs": [
    {
     "ename": "NameError",
     "evalue": "name 'sim_mv_net_of_vc' is not defined",
     "output_type": "error",
     "traceback": [
      "\u001b[1;31m---------------------------------------------------------------------------\u001b[0m",
      "\u001b[1;31mNameError\u001b[0m                                 Traceback (most recent call last)",
      "Cell \u001b[1;32mIn[87], line 4\u001b[0m\n\u001b[0;32m      1\u001b[0m sim \u001b[38;5;241m=\u001b[39m pd\u001b[38;5;241m.\u001b[39mconcat({\n\u001b[0;32m      2\u001b[0m     \u001b[38;5;124m'\u001b[39m\u001b[38;5;124mmv_gross\u001b[39m\u001b[38;5;124m'\u001b[39m: sim_mv_gross,\n\u001b[0;32m      3\u001b[0m     \u001b[38;5;124m'\u001b[39m\u001b[38;5;124mmv_net_of_fc\u001b[39m\u001b[38;5;124m'\u001b[39m: sim_mv_net_of_fc,\n\u001b[1;32m----> 4\u001b[0m     \u001b[38;5;124m'\u001b[39m\u001b[38;5;124mmv_net_of_vc\u001b[39m\u001b[38;5;124m'\u001b[39m: \u001b[43msim_mv_net_of_vc\u001b[49m,\n\u001b[0;32m      5\u001b[0m     \u001b[38;5;124m'\u001b[39m\u001b[38;5;124mmv_net\u001b[39m\u001b[38;5;124m'\u001b[39m: sim_mv_net,\n\u001b[0;32m      6\u001b[0m }, axis \u001b[38;5;241m=\u001b[39m \u001b[38;5;241m1\u001b[39m)\u001b[38;5;241m.\u001b[39mdropna()\n\u001b[0;32m      9\u001b[0m np\u001b[38;5;241m.\u001b[39mlog((\u001b[38;5;241m1\u001b[39m \u001b[38;5;241m+\u001b[39m sim))\u001b[38;5;241m.\u001b[39mcumsum()\u001b[38;5;241m.\u001b[39mplot(figsize \u001b[38;5;241m=\u001b[39m (\u001b[38;5;241m10\u001b[39m, \u001b[38;5;241m6\u001b[39m))\n",
      "\u001b[1;31mNameError\u001b[0m: name 'sim_mv_net_of_vc' is not defined"
     ]
    }
   ],
   "source": [
    "sim = pd.concat({\n",
    "    'mv_gross': sim_mv_gross,\n",
    "    'mv_net_of_fc': sim_mv_net_of_fc,\n",
    "    'mv_net_of_vc': sim_mv_net_of_vc,\n",
    "    'mv_net': sim_mv_net,\n",
    "}, axis = 1).dropna()\n",
    "\n",
    "\n",
    "np.log((1 + sim)).cumsum().plot(figsize = (10, 6))"
   ]
  },
  {
   "cell_type": "markdown",
   "metadata": {},
   "source": [
    "3: Descriptive Statistics\n",
    "\n",
    "(3 points)\n",
    "\n",
    "Generate a table with descriptive statistics of the simulations. Include the following statistics:\n",
    "- cumulative return (i.e., the return over the entire simulation period)\n",
    "- annualized average returns\n",
    "- annualized volatility\n",
    "- sharpe ratio\n",
    "- maximum drawdown"
   ]
  },
  {
   "cell_type": "code",
   "execution_count": null,
   "metadata": {},
   "outputs": [],
   "source": [
    "# <your code here>"
   ]
  }
 ],
 "metadata": {
  "kernelspec": {
   "display_name": "venv",
   "language": "python",
   "name": "python3"
  },
  "language_info": {
   "codemirror_mode": {
    "name": "ipython",
    "version": 3
   },
   "file_extension": ".py",
   "mimetype": "text/x-python",
   "name": "python",
   "nbconvert_exporter": "python",
   "pygments_lexer": "ipython3",
   "version": "3.11.9"
  }
 },
 "nbformat": 4,
 "nbformat_minor": 2
}
