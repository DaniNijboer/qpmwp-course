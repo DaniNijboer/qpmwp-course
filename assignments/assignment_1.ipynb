{
 "cells": [
  {
   "cell_type": "markdown",
   "metadata": {},
   "source": [
    "# Assignment 1: Solver Horse Race\n",
    "\n",
    "<Dani Nijboer, 24-750-960, danijariepeter.nijboer@uzh.ch>"
   ]
  },
  {
   "cell_type": "code",
   "execution_count": 13,
   "metadata": {},
   "outputs": [
    {
     "ename": "ModuleNotFoundError",
     "evalue": "No module named 'estimation'",
     "output_type": "error",
     "traceback": [
      "\u001b[1;31m---------------------------------------------------------------------------\u001b[0m",
      "\u001b[1;31mModuleNotFoundError\u001b[0m                       Traceback (most recent call last)",
      "Cell \u001b[1;32mIn[13], line 16\u001b[0m\n\u001b[0;32m     14\u001b[0m sys\u001b[38;5;241m.\u001b[39mpath\u001b[38;5;241m.\u001b[39mappend(project_root)\n\u001b[0;32m     15\u001b[0m sys\u001b[38;5;241m.\u001b[39mpath\u001b[38;5;241m.\u001b[39mappend(src_path)\n\u001b[1;32m---> 16\u001b[0m \u001b[38;5;28;01mfrom\u001b[39;00m \u001b[38;5;21;01mestimation\u001b[39;00m\u001b[38;5;21;01m.\u001b[39;00m\u001b[38;5;21;01mcovariance\u001b[39;00m \u001b[38;5;28;01mimport\u001b[39;00m Covariance\n\u001b[0;32m     17\u001b[0m \u001b[38;5;28;01mfrom\u001b[39;00m \u001b[38;5;21;01mestimation\u001b[39;00m\u001b[38;5;21;01m.\u001b[39;00m\u001b[38;5;21;01mexpected_return\u001b[39;00m \u001b[38;5;28;01mimport\u001b[39;00m ExpectedReturn\n\u001b[0;32m     18\u001b[0m \u001b[38;5;28;01mfrom\u001b[39;00m \u001b[38;5;21;01moptimization\u001b[39;00m\u001b[38;5;21;01m.\u001b[39;00m\u001b[38;5;21;01mconstraints\u001b[39;00m \u001b[38;5;28;01mimport\u001b[39;00m Constraints\n",
      "\u001b[1;31mModuleNotFoundError\u001b[0m: No module named 'estimation'"
     ]
    }
   ],
   "source": [
    "# Import standard libraries\n",
    "import os\n",
    "import sys\n",
    "import timeit\n",
    "\n",
    "# Import third-party libraries\n",
    "import numpy as np\n",
    "import pandas as pd\n",
    "import matplotlib.pyplot as plt\n",
    "\n",
    "# Import local modules\n",
    "project_root = os.path.dirname(os.path.dirname(os.getcwd()))\n",
    "src_path = os.path.join(project_root, 'qpmwp-private\\\\src')\n",
    "sys.path.append(project_root)\n",
    "sys.path.append(src_path)\n",
    "from estimation.covariance import Covariance\n",
    "from estimation.expected_return import ExpectedReturn\n",
    "from optimization.constraints import Constraints\n",
    "from optimization.quadratic_program import QuadraticProgram, USABLE_SOLVERS"
   ]
  },
  {
   "cell_type": "markdown",
   "metadata": {},
   "source": [
    "## Step 1:\n",
    "\n",
    "Generate a Multivariate-Normal random dataset of dimension TxN, T=1000, N=100, and compute a vector of expected returns, q, and a covariance matrix, P."
   ]
  },
  {
   "cell_type": "code",
   "execution_count": 7,
   "metadata": {},
   "outputs": [
    {
     "name": "stdout",
     "output_type": "stream",
     "text": [
      "Vector of expected returns (q):\n",
      "[-0.08912178 -0.03331073  0.2590585   0.31385837  0.19883515 -0.47767899\n",
      " -0.13399412 -0.0157723  -0.13465882  0.02930536 -0.59016652  0.03436144\n",
      " -0.23206081 -0.32986596 -0.0098787   0.25151794 -0.19612061 -0.44646583\n",
      " -0.21363457  0.03166487  0.32953021 -0.54373613  0.26713981  0.33547871\n",
      " -0.538285   -0.15694251  0.20960447  0.25510258 -0.06103796  0.08249468\n",
      " -0.11594671 -0.04948613  0.2766161   0.26811424  0.07982628 -0.40992985\n",
      "  0.06537362 -0.08286211 -0.53239418 -0.51471906  0.00798846  0.37638599\n",
      " -0.30887923 -0.12390621 -0.00366338 -0.15184983 -0.2703514   0.05453506\n",
      " -0.5770665   0.16750343  0.2991467   0.10350082 -0.13679742  0.05148257\n",
      " -0.11217559  0.05705504  0.01204904 -0.0779479  -0.20367047  0.1411254\n",
      " -0.17556914  0.25101591  0.09418922  0.04074996  0.2124779  -0.4847924\n",
      "  0.0913133  -0.16761373  0.46028625  0.09565444  0.07971592  0.22913541\n",
      " -0.36009022  0.43371446 -0.05475709  0.06147527 -0.46168673  0.48279507\n",
      " -0.10868308  0.0624678   0.24539332  0.2608719   0.23922961 -0.20420344\n",
      "  0.32184812  0.06405627 -0.4740766   0.59368703  0.90690144  0.14114768\n",
      " -0.02660105  0.0751903  -0.08253642  0.06444069 -0.13093776  0.47230489\n",
      " -0.55411116 -0.16899593  0.68600163 -0.36121011]\n",
      "\n",
      "Covariance matrix (P):\n",
      "[[ 97.83996631 -11.00856928  -4.28138963 ...  -2.72638097   2.71667997\n",
      "    3.67113616]\n",
      " [-11.00856928  75.55658011   8.39995743 ... -21.4250979  -15.34180082\n",
      "    3.989248  ]\n",
      " [ -4.28138963   8.39995743  91.1750076  ...   0.70954339  20.92706436\n",
      "   -8.70447982]\n",
      " ...\n",
      " [ -2.72638097 -21.4250979    0.70954339 ...  91.87751576  19.38277905\n",
      "   -0.91150499]\n",
      " [  2.71667997 -15.34180082  20.92706436 ...  19.38277905 102.75356194\n",
      "   -2.34181216]\n",
      " [  3.67113616   3.989248    -8.70447982 ...  -0.91150499  -2.34181216\n",
      "   90.98483639]]\n"
     ]
    }
   ],
   "source": [
    "\n",
    "# Set the dimensions\n",
    "T = 1000  # Number of time periods\n",
    "N = 100   # Number of assets\n",
    "\n",
    "import numpy as np\n",
    "\n",
    "mean_returns = np.zeros(N)\n",
    "random_matrix = np.random.randn(N, N)\n",
    "cov_matrix = np.dot(random_matrix, random_matrix.T) \n",
    "X = np.random.multivariate_normal(mean_returns, cov_matrix, size=T)\n",
    "q = np.mean(X, axis=0)\n",
    "P = np.cov(X, rowvar=False)\n",
    "\n",
    "# Display the results\n",
    "print(\"Vector of expected returns (q):\")\n",
    "print(q)\n",
    "\n",
    "print(\"\\nCovariance matrix (P):\")\n",
    "print(P)\n"
   ]
  },
  {
   "cell_type": "markdown",
   "metadata": {},
   "source": [
    "## Step 2:\n",
    "\n",
    "Instantiate a constraints object containing:\n",
    "- a budget constaint (i.e., asset weights have to sum to one)\n",
    "- lower bounds of 0.0 for all assets\n",
    "- upper bounds of 0.2 for all assets\n",
    "- group contraints such that the sum of the weights of the first 30 assets is <= 0.3, the sum of assets 31 to 60 is <= 0.4 and the sum of assets 61 to 100 is <= 0.5"
   ]
  },
  {
   "cell_type": "markdown",
   "metadata": {},
   "source": []
  },
  {
   "cell_type": "code",
   "execution_count": 8,
   "metadata": {},
   "outputs": [],
   "source": [
    "# Instantiate the Constraints class\n",
    "#<your code here>\n",
    "\n",
    "# Add budget constraint\n",
    "#<your code here>\n",
    "\n",
    "# Add box constraints (i.e., lower and upper bounds)\n",
    "#<your code here>\n",
    "\n",
    "# Add linear constraints\n",
    "#<your code here>"
   ]
  },
  {
   "cell_type": "markdown",
   "metadata": {},
   "source": [
    "## Step 3:\n",
    "\n",
    "Solve a Mean-Variance optimization problem (using coefficients P and q in the objective function) which satisfies the above defined constraints.\n",
    "Repeat the task for all available open-source solvers in qpsolvers and compare the results in terms of:\n",
    "\n",
    "- runtime\n",
    "- accuracy: value of the primal problem.\n",
    "- reliability: are all constarints fulfilled? Extract primal resisduals, dual residuals and duality gap.\n",
    "\n",
    "Generate a DataFrame with the solvers as column names and the following index: 'solution_found': bool, 'objective': float, 'primal_residual': float, 'dual_residual': float, 'duality_gap': float, 'runtime': float."
   ]
  },
  {
   "cell_type": "code",
   "execution_count": null,
   "metadata": {},
   "outputs": [],
   "source": [
    "# Extract the constraints in the format required by the solver\n",
    "#<your code here>\n",
    "\n",
    "# Loop over solvers, instantiate the quadratic program, solve it and store the results\n",
    "#<your code here>"
   ]
  },
  {
   "cell_type": "markdown",
   "metadata": {},
   "source": [
    "## Print and visualize the results"
   ]
  },
  {
   "cell_type": "code",
   "execution_count": null,
   "metadata": {},
   "outputs": [],
   "source": [
    "#<your code here>"
   ]
  },
  {
   "cell_type": "markdown",
   "metadata": {},
   "source": []
  }
 ],
 "metadata": {
  "kernelspec": {
   "display_name": "venv",
   "language": "python",
   "name": "python3"
  },
  "language_info": {
   "codemirror_mode": {
    "name": "ipython",
    "version": 3
   },
   "file_extension": ".py",
   "mimetype": "text/x-python",
   "name": "python",
   "nbconvert_exporter": "python",
   "pygments_lexer": "ipython3",
   "version": "3.11.9"
  }
 },
 "nbformat": 4,
 "nbformat_minor": 2
}
